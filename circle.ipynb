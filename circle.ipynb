{
  "nbformat": 4,
  "nbformat_minor": 0,
  "metadata": {
    "colab": {
      "provenance": [],
      "authorship_tag": "ABX9TyMUukPem/lNsxOlzBOgpyrk",
      "include_colab_link": true
    },
    "kernelspec": {
      "name": "python3",
      "display_name": "Python 3"
    },
    "language_info": {
      "name": "python"
    }
  },
  "cells": [
    {
      "cell_type": "markdown",
      "metadata": {
        "id": "view-in-github",
        "colab_type": "text"
      },
      "source": [
        "<a href=\"https://colab.research.google.com/github/vishakhapratapotari/vishakhapratapotari/blob/main/circle.ipynb\" target=\"_parent\"><img src=\"https://colab.research.google.com/assets/colab-badge.svg\" alt=\"Open In Colab\"/></a>"
      ]
    },
    {
      "cell_type": "code",
      "execution_count": 6,
      "metadata": {
        "colab": {
          "base_uri": "https://localhost:8080/"
        },
        "id": "Ei4QpBEad-m6",
        "outputId": "0036d867-b83b-47cc-8cdb-088f44864e93"
      },
      "outputs": [
        {
          "output_type": "stream",
          "name": "stdout",
          "text": [
            "Enter the radius3\n",
            "the area of circle is: 28.274333882308138\n"
          ]
        }
      ],
      "source": [
        "import math as M\n",
        "r=float(input(\"Enter the radius\"))\n",
        "area_of_circle = M.pi*r*r\n",
        "print(\"the area of circle is:\",area_of_circle)"
      ]
    }
  ]
}